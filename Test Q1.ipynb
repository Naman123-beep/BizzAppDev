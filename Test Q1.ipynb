{
 "cells": [
  {
   "cell_type": "code",
   "execution_count": 2,
   "id": "54951d64",
   "metadata": {},
   "outputs": [
    {
     "name": "stdout",
     "output_type": "stream",
     "text": [
      "First Number:\n",
      "456\n",
      "Operator (+, -, *, /):\n",
      "-\n",
      "Second Number:\n",
      "12\n",
      "Answer: 444.0\n"
     ]
    }
   ],
   "source": [
    "num1 = input(\"First Number:\\n\")\n",
    "operator = input(\"Operator (+, -, *, /):\\n\")\n",
    "num2 = input(\"Second Number:\\n\")\n",
    "\n",
    "num1 = float(num1)\n",
    "num2 = float(num2)\n",
    "\n",
    "out = None\n",
    "\n",
    "if operator == \"+\":\n",
    "    out =  num1 + num2\n",
    "elif operator == \"-\":\n",
    "    out = num1 - num2\n",
    "elif operator == \"*\":\n",
    "    out = num1 * num2\n",
    "elif operator == \"/\":\n",
    "    out = num1 / num2\n",
    "    \n",
    "print(\"Answer: \" + str(out))"
   ]
  },
  {
   "cell_type": "markdown",
   "id": "2793268d",
   "metadata": {},
   "source": [
    "# Q2 Provide a program to read the CSV file."
   ]
  },
  {
   "cell_type": "code",
   "execution_count": 4,
   "id": "fe014a85",
   "metadata": {},
   "outputs": [],
   "source": [
    "import pandas as pd"
   ]
  },
  {
   "cell_type": "code",
   "execution_count": 7,
   "id": "07402fca",
   "metadata": {},
   "outputs": [],
   "source": [
    "df = pd.read_csv('Salary.csv')"
   ]
  },
  {
   "cell_type": "code",
   "execution_count": 8,
   "id": "a3473dc3",
   "metadata": {},
   "outputs": [
    {
     "data": {
      "text/html": [
       "<div>\n",
       "<style scoped>\n",
       "    .dataframe tbody tr th:only-of-type {\n",
       "        vertical-align: middle;\n",
       "    }\n",
       "\n",
       "    .dataframe tbody tr th {\n",
       "        vertical-align: top;\n",
       "    }\n",
       "\n",
       "    .dataframe thead th {\n",
       "        text-align: right;\n",
       "    }\n",
       "</style>\n",
       "<table border=\"1\" class=\"dataframe\">\n",
       "  <thead>\n",
       "    <tr style=\"text-align: right;\">\n",
       "      <th></th>\n",
       "      <th>Name</th>\n",
       "      <th>Birth Date</th>\n",
       "      <th>Salary</th>\n",
       "    </tr>\n",
       "  </thead>\n",
       "  <tbody>\n",
       "  </tbody>\n",
       "</table>\n",
       "</div>"
      ],
      "text/plain": [
       "Empty DataFrame\n",
       "Columns: [Name, Birth Date, Salary]\n",
       "Index: []"
      ]
     },
     "execution_count": 8,
     "metadata": {},
     "output_type": "execute_result"
    }
   ],
   "source": [
    "df"
   ]
  },
  {
   "cell_type": "code",
   "execution_count": 9,
   "id": "def50d65",
   "metadata": {},
   "outputs": [],
   "source": [
    "list_of_column_names = list(df.columns)"
   ]
  },
  {
   "cell_type": "code",
   "execution_count": 10,
   "id": "1eef023c",
   "metadata": {},
   "outputs": [
    {
     "name": "stdout",
     "output_type": "stream",
     "text": [
      "List of column names :  ['Name', 'Birth Date', 'Salary']\n"
     ]
    }
   ],
   "source": [
    "print('List of column names : ',\n",
    "      list_of_column_names)"
   ]
  },
  {
   "cell_type": "markdown",
   "id": "55840b32",
   "metadata": {},
   "source": [
    "# Provide a program to calculate the time and distance based on Below Problem"
   ]
  },
  {
   "cell_type": "code",
   "execution_count": null,
   "id": "2cf4cd03",
   "metadata": {},
   "outputs": [],
   "source": []
  }
 ],
 "metadata": {
  "kernelspec": {
   "display_name": "Python 3 (ipykernel)",
   "language": "python",
   "name": "python3"
  },
  "language_info": {
   "codemirror_mode": {
    "name": "ipython",
    "version": 3
   },
   "file_extension": ".py",
   "mimetype": "text/x-python",
   "name": "python",
   "nbconvert_exporter": "python",
   "pygments_lexer": "ipython3",
   "version": "3.9.12"
  }
 },
 "nbformat": 4,
 "nbformat_minor": 5
}
